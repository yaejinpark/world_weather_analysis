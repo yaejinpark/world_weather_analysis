{
 "cells": [
  {
   "cell_type": "code",
   "execution_count": 1,
   "id": "750e1450",
   "metadata": {},
   "outputs": [],
   "source": [
    "# Import the random module.\n",
    "import random"
   ]
  },
  {
   "cell_type": "code",
   "execution_count": 2,
   "id": "71a4708d",
   "metadata": {},
   "outputs": [
    {
     "data": {
      "text/plain": [
       "17"
      ]
     },
     "execution_count": 2,
     "metadata": {},
     "output_type": "execute_result"
    }
   ],
   "source": [
    "random.randint(-90,90)"
   ]
  },
  {
   "cell_type": "code",
   "execution_count": 3,
   "id": "f57a1f65",
   "metadata": {},
   "outputs": [
    {
     "data": {
      "text/plain": [
       "0.6036833012912232"
      ]
     },
     "execution_count": 3,
     "metadata": {},
     "output_type": "execute_result"
    }
   ],
   "source": [
    "random.random()"
   ]
  },
  {
   "cell_type": "code",
   "execution_count": 4,
   "id": "87435c41",
   "metadata": {},
   "outputs": [
    {
     "data": {
      "text/plain": [
       "[41.781230451503504,\n",
       " 36.5426661718837,\n",
       " -37.910075322763625,\n",
       " 82.14478337503903,\n",
       " -6.269382074031948,\n",
       " -84.38060373137448,\n",
       " 67.71380003255348,\n",
       " -17.89694943387365,\n",
       " -9.554180837596443,\n",
       " 88.83418628950065]"
      ]
     },
     "execution_count": 4,
     "metadata": {},
     "output_type": "execute_result"
    }
   ],
   "source": [
    "x=1\n",
    "lattitudes = []\n",
    "\n",
    "while x < 11:\n",
    "    random_lat = random.randint(-90,89) + random.random()\n",
    "    lattitudes.append(random_lat)\n",
    "    x+=1\n",
    "\n",
    "lattitudes"
   ]
  },
  {
   "cell_type": "code",
   "execution_count": 5,
   "id": "8321df4e",
   "metadata": {},
   "outputs": [
    {
     "data": {
      "text/plain": [
       "27"
      ]
     },
     "execution_count": 5,
     "metadata": {},
     "output_type": "execute_result"
    }
   ],
   "source": [
    "random.randrange(-90,90,step=3)"
   ]
  },
  {
   "cell_type": "code",
   "execution_count": 6,
   "id": "40ddaa15",
   "metadata": {},
   "outputs": [
    {
     "data": {
      "text/plain": [
       "15.55195982853256"
      ]
     },
     "execution_count": 6,
     "metadata": {},
     "output_type": "execute_result"
    }
   ],
   "source": [
    "random.uniform(-90,90)"
   ]
  },
  {
   "cell_type": "code",
   "execution_count": 7,
   "id": "8a6adabf",
   "metadata": {},
   "outputs": [],
   "source": [
    "import numpy as np"
   ]
  },
  {
   "cell_type": "code",
   "execution_count": 10,
   "id": "afcf46ba",
   "metadata": {},
   "outputs": [
    {
     "data": {
      "text/plain": [
       "array([-55.9780488 ,  52.42481334, -28.91096484,  16.07708659,\n",
       "        30.12869214,  56.67769051, -19.74672039,  25.7451722 ,\n",
       "        59.90602131,  84.56796719,  89.49190079,  58.30727589,\n",
       "       -65.923576  ,  60.45526905,  31.4554109 ,  37.8807374 ,\n",
       "        -6.33047652,  48.52861059,  11.95281917, -65.29331925,\n",
       "        17.03188348,   7.55683979, -24.95401837, -17.43893174,\n",
       "        23.37274425, -83.8804263 ,  71.80327227,  -4.34836253,\n",
       "        -4.32220592, -66.90973186, -89.42210097, -50.13476406,\n",
       "        70.38718824, -11.2065671 , -36.42676374,  85.14740998,\n",
       "       -89.62375577, -68.20858031, -78.55442287,  30.42987251,\n",
       "        -2.94812472,  25.65298818,  24.34692209,  44.37886492,\n",
       "        77.75626129,  57.50958427, -52.04226165,  43.69250415,\n",
       "       -61.94924668,  75.33775512])"
      ]
     },
     "execution_count": 10,
     "metadata": {},
     "output_type": "execute_result"
    }
   ],
   "source": [
    "np.random.uniform(-90.000,90.000,size=50)"
   ]
  },
  {
   "cell_type": "code",
   "execution_count": 11,
   "id": "673573c0",
   "metadata": {},
   "outputs": [],
   "source": [
    "import timeit"
   ]
  },
  {
   "cell_type": "code",
   "execution_count": 12,
   "id": "d0c9fdf8",
   "metadata": {},
   "outputs": [
    {
     "name": "stdout",
     "output_type": "stream",
     "text": [
      "14.3 µs ± 335 ns per loop (mean ± std. dev. of 7 runs, 100000 loops each)\n"
     ]
    }
   ],
   "source": [
    "%timeit np.random.uniform(-90.000,90.000,size=1500)"
   ]
  },
  {
   "cell_type": "code",
   "execution_count": 13,
   "id": "ae3c9af0",
   "metadata": {},
   "outputs": [
    {
     "name": "stdout",
     "output_type": "stream",
     "text": [
      "1.49 ms ± 241 µs per loop (mean ± std. dev. of 7 runs, 100 loops each)\n"
     ]
    }
   ],
   "source": [
    "def latitudes(size):\n",
    "    x = 1\n",
    "    latitudes = []\n",
    "    \n",
    "    while x < size:\n",
    "        latitudes.append(random.randint(-90,90) + random.random())\n",
    "        x += 1\n",
    "    return latitudes\n",
    "\n",
    "%timeit latitudes(1500)"
   ]
  },
  {
   "cell_type": "code",
   "execution_count": null,
   "id": "41f64c4b",
   "metadata": {},
   "outputs": [],
   "source": []
  }
 ],
 "metadata": {
  "kernelspec": {
   "display_name": "PythonData",
   "language": "python",
   "name": "pythondata"
  },
  "language_info": {
   "codemirror_mode": {
    "name": "ipython",
    "version": 3
   },
   "file_extension": ".py",
   "mimetype": "text/x-python",
   "name": "python",
   "nbconvert_exporter": "python",
   "pygments_lexer": "ipython3",
   "version": "3.8.3"
  }
 },
 "nbformat": 4,
 "nbformat_minor": 5
}
