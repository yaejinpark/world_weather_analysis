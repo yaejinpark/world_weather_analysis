{
 "cells": [
  {
   "cell_type": "code",
   "execution_count": 6,
   "id": "4674fff1",
   "metadata": {},
   "outputs": [],
   "source": [
    "# Import the dependencies.\n",
    "import pandas as pd\n",
    "import matplotlib.pyplot as plt\n",
    "import numpy as np\n",
    "from citipy import citipy"
   ]
  },
  {
   "cell_type": "code",
   "execution_count": 7,
   "id": "40853e34",
   "metadata": {},
   "outputs": [],
   "source": [
    "lats = np.random.uniform(-90.000,90.000,size=1500)\n",
    "lngs = np.random.uniform(-180.000,180.000,size=1500)\n",
    "lat_lngs = zip(lats,lngs)\n",
    "\n",
    "coordinates = list(lat_lngs)"
   ]
  },
  {
   "cell_type": "code",
   "execution_count": 9,
   "id": "54134b1e",
   "metadata": {},
   "outputs": [
    {
     "name": "stdout",
     "output_type": "stream",
     "text": [
      "613\n"
     ]
    }
   ],
   "source": [
    "# List for holding the cities\n",
    "cities = []\n",
    "\n",
    "# Identify the nearest city for each latitude and longitude combination.\n",
    "for coordinate in coordinates:\n",
    "    city = citipy.nearest_city(coordinate[0],coordinate[1]).city_name\n",
    "    \n",
    "    # If city not in list, add to list\n",
    "    if city not in cities:\n",
    "        cities.append(city)\n",
    "\n",
    "# Print cities length\n",
    "print (len(cities))"
   ]
  },
  {
   "cell_type": "code",
   "execution_count": null,
   "id": "b41d1acb",
   "metadata": {},
   "outputs": [],
   "source": []
  }
 ],
 "metadata": {
  "kernelspec": {
   "display_name": "PythonData",
   "language": "python",
   "name": "pythondata"
  },
  "language_info": {
   "codemirror_mode": {
    "name": "ipython",
    "version": 3
   },
   "file_extension": ".py",
   "mimetype": "text/x-python",
   "name": "python",
   "nbconvert_exporter": "python",
   "pygments_lexer": "ipython3",
   "version": "3.8.3"
  }
 },
 "nbformat": 4,
 "nbformat_minor": 5
}
